{
 "cells": [
  {
   "cell_type": "markdown",
   "id": "c8c5e9a9-e5fa-44b2-8951-89090469ba1e",
   "metadata": {},
   "source": [
    "<h1>Welcome to the Series!</h1>"
   ]
  },
  {
   "cell_type": "markdown",
   "id": "445a93b6-347a-4129-b067-e72a970ae2a4",
   "metadata": {},
   "source": [
    "<p>There are thousands of sources available online for python and most of them are only focused on basics explaining only the beginner parts of the language. I couldn't find anything over the internet that can directly discuss the dark side of python - a side that will make you different from all others.<p>"
   ]
  },
  {
   "cell_type": "markdown",
   "id": "b06ced24-4445-4181-9d13-29fdc39ed14e",
   "metadata": {},
   "source": [
    "<p>I am starting this python series straight out of python documentation - explained in the easiest way possible so you never have to ask ChatGPT again and can actually call yourself proficient in Python :)</p>"
   ]
  },
  {
   "cell_type": "markdown",
   "id": "bf221c28-7b30-45b8-928f-4b76e95ecf2c",
   "metadata": {},
   "source": [
    "<p>-------------------------------------------------------------------------------------------------------------------</p>"
   ]
  },
  {
   "cell_type": "markdown",
   "id": "a1bb651d-f50a-4bc9-a456-1d419d1b8b82",
   "metadata": {},
   "source": [
    "TOPIC #1 - Datatypes"
   ]
  },
  {
   "cell_type": "code",
   "execution_count": 8,
   "id": "959e582f-1a5c-4a3e-8972-3dddbabcedc0",
   "metadata": {},
   "outputs": [
    {
     "name": "stdout",
     "output_type": "stream",
     "text": [
      "frozenset({'c', 'a', 'b'})\n"
     ]
    }
   ],
   "source": [
    "\"\"\"\n",
    "int   - all Numbers\n",
    "float - all decimals\n",
    "\n",
    "str   - all words, letters - characters\n",
    "ord('a') - chr(65)\n",
    "\"\"\"\n",
    "# Memory Efficiency [Tuple > List > Forzenset > Set > Dict]\n",
    "# Immutability helps in memory optimization                                             $needs digging\n",
    "\n",
    "# Immutable Entities in Python\n",
    "# Tuple | Frozenset | Str | \n",
    "\n",
    "\"\"\"\n",
    "tuple     :: t1 = (1,2,3,4)\n",
    "list      :: l1 = [1,2,3,4]\n",
    "dict      :: d1 = {\"Name\":\"Ramis\", \"Age\":28, \"Dept\": \"IT\"}\n",
    "set       :: s1 = {1,2,3,4}\n",
    "frozenset :: frozenset([1,2,3,4])\n",
    "\n",
    "NoneType  :: None\n",
    "\n",
    "\"\"\"\n",
    "# frozenset can be created from tuple, list, dict, set, str\n",
    "# frozenset do not maintain order | sets maintain order\n",
    "\n",
    "\"\"\"\n",
    "Tuple | Frozenset | Str\n",
    "These are all immutable which makes it eligible for becoming dict keys (Hashable)\n",
    "\n",
    "\n",
    "We cannot create set of sets BUT we can create frozenset of frozensets\n",
    "\"\"\"\n",
    "\n",
    "# List of all immutable objects in Python !!!\n",
    "\"\"\"\n",
    "int | float | complex | bool\n",
    "str | tuple | frozenset\n",
    "bytes | None | range | type\n",
    "\n",
    "\"\"\"\n",
    "\n",
    "\"\"\"\n",
    "\n",
    "Immutable objects are hashable (most of the time), so they can be used as keys in dictionaries or elements in sets.\n",
    "They are safer for concurrent programming.\n",
    "They help avoid unintended side effects in functions or libraries.\n",
    "They can be interned or reused, making memory usage more efficient (especially for small int, str).\n",
    "\n",
    "\"\"\"\n",
    "\n",
    "\n",
    "chr(65)\n",
    "ord('a')\n",
    "print(frozenset(\"abc\"))"
   ]
  },
  {
   "cell_type": "markdown",
   "id": "42d0084e-8729-449f-a3db-fb818484a5ad",
   "metadata": {},
   "source": [
    "<h4>Why only Immutable data types are used as keys in Python Dictionaries?</h4>"
   ]
  },
  {
   "cell_type": "markdown",
   "id": "12d106b5-a794-4d67-8dd9-f351caeb9402",
   "metadata": {},
   "source": [
    "<p> This is because dictionary keys needs to be HASHABLE always </p>\n",
    "<p> A python object has __hash__() method if it returns fixed value during its whole lifetime </p>\n",
    "<p> Supports __eq__()\n",
    "<p> ------------------------------------------ </p>\n",
    "\n",
    "<p> When we use DICT1[\"key_name\"] python uses the hash(key_name) to find the correct value | if key is mutable then its hash will also change -> breaking the lookup login</p>"
   ]
  },
  {
   "cell_type": "code",
   "execution_count": 10,
   "id": "39025d39-c497-4ef3-adeb-aab63603e0c5",
   "metadata": {},
   "outputs": [
    {
     "name": "stdout",
     "output_type": "stream",
     "text": [
      "TOPIC 1 ENDS HERE\n"
     ]
    }
   ],
   "source": [
    "# Data types that can be used as dictionary keys\n",
    "\"\"\"\n",
    "\n",
    "int | float | bool\n",
    "\n",
    "tuple | str | frozenset\n",
    "\n",
    "bytes | None | range | enum.Enum\n",
    "\n",
    "\"\"\"\n",
    "# Cannot use list, dict or set as DICT KEYS\n",
    "\n",
    "print(\"TOPIC 1 ENDS HERE\")\n"
   ]
  },
  {
   "cell_type": "markdown",
   "id": "f6d700b9-3fa4-40bd-b3f2-6def2246542c",
   "metadata": {},
   "source": [
    "<p>---------------------------------------------------------------------------------------------------------------</p>"
   ]
  },
  {
   "cell_type": "markdown",
   "id": "c864edb3-9a0c-44ed-8491-4ca1741a5269",
   "metadata": {},
   "source": [
    "TOPIC #2: "
   ]
  }
 ],
 "metadata": {
  "kernelspec": {
   "display_name": "Python 3 (ipykernel)",
   "language": "python",
   "name": "python3"
  },
  "language_info": {
   "codemirror_mode": {
    "name": "ipython",
    "version": 3
   },
   "file_extension": ".py",
   "mimetype": "text/x-python",
   "name": "python",
   "nbconvert_exporter": "python",
   "pygments_lexer": "ipython3",
   "version": "3.10.0"
  }
 },
 "nbformat": 4,
 "nbformat_minor": 5
}
