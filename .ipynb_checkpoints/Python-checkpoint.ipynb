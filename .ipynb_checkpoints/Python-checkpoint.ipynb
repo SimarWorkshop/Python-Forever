{
 "cells": [
  {
   "cell_type": "markdown",
   "id": "c8c5e9a9-e5fa-44b2-8951-89090469ba1e",
   "metadata": {},
   "source": [
    "<h1>Welcome to the Series!</h1>"
   ]
  },
  {
   "cell_type": "markdown",
   "id": "445a93b6-347a-4129-b067-e72a970ae2a4",
   "metadata": {},
   "source": [
    "<p>There are thousands of sources available online for python and most of them are only focused on basics explaining only the basics of the language. I couldn't find anything over the internet that can directly focus on the working of core python entities - a part that will make you different from all others.<p>"
   ]
  },
  {
   "cell_type": "markdown",
   "id": "b06ced24-4445-4181-9d13-29fdc39ed14e",
   "metadata": {},
   "source": [
    "<p>I am starting this python series straight out of python documentation - explained in the easiest way possible so you never have to ask ChatGPT again and can actually call yourself proficient in Python :)</p>"
   ]
  },
  {
   "cell_type": "markdown",
   "id": "bf221c28-7b30-45b8-928f-4b76e95ecf2c",
   "metadata": {},
   "source": [
    "<p>-------------------------------------------------------------------------------------------------------------------</p>"
   ]
  },
  {
   "cell_type": "markdown",
   "id": "a1bb651d-f50a-4bc9-a456-1d419d1b8b82",
   "metadata": {},
   "source": [
    "TOPIC #1 - Datatypes"
   ]
  },
  {
   "cell_type": "code",
   "execution_count": 8,
   "id": "959e582f-1a5c-4a3e-8972-3dddbabcedc0",
   "metadata": {},
   "outputs": [
    {
     "name": "stdout",
     "output_type": "stream",
     "text": [
      "frozenset({'c', 'a', 'b'})\n"
     ]
    }
   ],
   "source": [
    "\"\"\"\n",
    "int   - all Numbers\n",
    "float - all decimals\n",
    "\n",
    "str   - all words, letters - characters\n",
    "ord('a') - chr(65)\n",
    "\"\"\"\n",
    "# Memory Efficiency [Tuple > List > Forzenset > Set > Dict]\n",
    "# Immutability helps in memory optimization                                             $needs digging\n",
    "\n",
    "# Immutable Entities in Python\n",
    "# Tuple | Frozenset | Str | \n",
    "\n",
    "\"\"\"\n",
    "tuple     :: t1 = (1,2,3,4)\n",
    "list      :: l1 = [1,2,3,4]\n",
    "dict      :: d1 = {\"Name\":\"Ramis\", \"Age\":28, \"Dept\": \"IT\"}\n",
    "set       :: s1 = {1,2,3,4}\n",
    "frozenset :: frozenset([1,2,3,4])\n",
    "\n",
    "NoneType  :: None\n",
    "\n",
    "\"\"\"\n",
    "# frozenset can be created from tuple, list, dict, set, str\n",
    "# frozenset do not maintain order | sets maintain order\n",
    "\n",
    "\"\"\"\n",
    "Tuple | Frozenset | Str\n",
    "These are all immutable which makes it eligible for becoming dict keys (Hashable)\n",
    "\n",
    "\n",
    "We cannot create set of sets BUT we can create frozenset of frozensets\n",
    "\"\"\"\n",
    "\n",
    "# List of all immutable objects in Python !!!\n",
    "\"\"\"\n",
    "int | float | complex | bool\n",
    "str | tuple | frozenset\n",
    "bytes | None | range | type\n",
    "\n",
    "\"\"\"\n",
    "\n",
    "\"\"\"\n",
    "\n",
    "Immutable objects are hashable (most of the time), so they can be used as keys in dictionaries or elements in sets.\n",
    "They are safer for concurrent programming.\n",
    "They help avoid unintended side effects in functions or libraries.\n",
    "They can be interned or reused, making memory usage more efficient (especially for small int, str).\n",
    "\n",
    "\"\"\"\n",
    "\n",
    "\n",
    "chr(65)\n",
    "ord('a')\n",
    "print(frozenset(\"abc\"))"
   ]
  },
  {
   "cell_type": "markdown",
   "id": "42d0084e-8729-449f-a3db-fb818484a5ad",
   "metadata": {},
   "source": [
    "<h4>Why only Immutable data types are used as keys in Python Dictionaries?</h4>"
   ]
  },
  {
   "cell_type": "markdown",
   "id": "12d106b5-a794-4d67-8dd9-f351caeb9402",
   "metadata": {},
   "source": [
    "<p> This is because dictionary keys needs to be HASHABLE always </p>\n",
    "<p> A python object has __hash__() method if it returns fixed value during its whole lifetime </p>\n",
    "<p> Supports __eq__()\n",
    "<p> ------------------------------------------ </p>\n",
    "\n",
    "<p> When we use DICT1[\"key_name\"] python uses the hash(key_name) to find the correct value | if key is mutable then its hash will also change -> breaking the lookup login</p>"
   ]
  },
  {
   "cell_type": "code",
   "execution_count": 10,
   "id": "39025d39-c497-4ef3-adeb-aab63603e0c5",
   "metadata": {},
   "outputs": [
    {
     "name": "stdout",
     "output_type": "stream",
     "text": [
      "TOPIC 1 ENDS HERE\n"
     ]
    }
   ],
   "source": [
    "# Data types that can be used as dictionary keys\n",
    "\"\"\"\n",
    "\n",
    "int | float | bool\n",
    "\n",
    "tuple | str | frozenset\n",
    "\n",
    "bytes | None | range | enum.Enum\n",
    "\n",
    "\"\"\"\n",
    "# Cannot use list, dict or set as DICT KEYS\n",
    "\n",
    "print(\"TOPIC 1 ENDS HERE\")\n"
   ]
  },
  {
   "cell_type": "markdown",
   "id": "f6d700b9-3fa4-40bd-b3f2-6def2246542c",
   "metadata": {},
   "source": [
    "<p>---------------------------------------------------------------------------------------------------------------</p>"
   ]
  },
  {
   "cell_type": "markdown",
   "id": "c864edb3-9a0c-44ed-8491-4ca1741a5269",
   "metadata": {},
   "source": [
    "<h4>TOPIC #2: Important Components in Python</h4>"
   ]
  },
  {
   "cell_type": "markdown",
   "id": "bc9ebc58-7254-4918-9f36-77cc637eed36",
   "metadata": {},
   "source": [
    "Sub-topic #1 - Generators and yield keyword"
   ]
  },
  {
   "cell_type": "code",
   "execution_count": 11,
   "id": "7f77ccd7-d858-4d28-874d-e8a34eee79c4",
   "metadata": {},
   "outputs": [
    {
     "name": "stdout",
     "output_type": "stream",
     "text": [
      "1\n",
      "2\n",
      "3\n"
     ]
    }
   ],
   "source": [
    "# Generators in Python\n",
    "\"\"\"\n",
    "Iterate over sequence values lazily.\n",
    "Produces values on-the-fly - more memory-efficient\n",
    "\"\"\"\n",
    "\n",
    "# yield\n",
    "\"\"\"\n",
    "This keyword is more about pausing the function at a particular state.\n",
    "Whenever yield expression is processed, value is returned and function state is being saved at that particular point until the next call is made by the generator.\n",
    "After the next calls, it will keep moving forward.\n",
    "\n",
    "Pause the execution and return value to the caller while preserving the function state\n",
    "Function will resumes from where it left off\n",
    "\"\"\"\n",
    "\n",
    "# This makes generators different from regular functions, which terminates after returning a value\n",
    "# THE MOST EASIEST GENERATOR FUNC\n",
    "\n",
    "def simp_gen():\n",
    "    yield 1\n",
    "    yield 2\n",
    "    yield 3\n",
    "\n",
    "gen1 = simp_gen()\n",
    "\n",
    "print(next(gen1))\n",
    "print(next(gen1))\n",
    "print(next(gen1))\n",
    "\n",
    "#print(next(gen1)) # Raises StopIteration\n",
    "# The following code will not work BECAUSE A Generator object can only be used ONCE\n",
    "for value in gen1:\n",
    "    print(value+6)\n",
    "\n"
   ]
  },
  {
   "cell_type": "code",
   "execution_count": 12,
   "id": "b7b75e20-709d-4795-acae-abac7d765e0a",
   "metadata": {},
   "outputs": [
    {
     "ename": "FileNotFoundError",
     "evalue": "[Errno 2] No such file or directory: 'large_file.txt'",
     "output_type": "error",
     "traceback": [
      "\u001b[1;31m---------------------------------------------------------------------------\u001b[0m",
      "\u001b[1;31mFileNotFoundError\u001b[0m                         Traceback (most recent call last)",
      "Cell \u001b[1;32mIn[12], line 18\u001b[0m\n\u001b[0;32m     15\u001b[0m         \u001b[38;5;28;01mfor\u001b[39;00m line \u001b[38;5;129;01min\u001b[39;00m file:\n\u001b[0;32m     16\u001b[0m             \u001b[38;5;28;01myield\u001b[39;00m line\n\u001b[1;32m---> 18\u001b[0m \u001b[38;5;28;01mfor\u001b[39;00m line \u001b[38;5;129;01min\u001b[39;00m read_file_lines(\u001b[38;5;124m\"\u001b[39m\u001b[38;5;124mlarge_file.txt\u001b[39m\u001b[38;5;124m\"\u001b[39m):\n\u001b[0;32m     19\u001b[0m     \u001b[38;5;28mprint\u001b[39m(line)\n\u001b[0;32m     22\u001b[0m \u001b[38;5;66;03m# Generating fibonacci for infinite sequences\u001b[39;00m\n",
      "Cell \u001b[1;32mIn[12], line 14\u001b[0m, in \u001b[0;36mread_file_lines\u001b[1;34m(file_path)\u001b[0m\n\u001b[0;32m     13\u001b[0m \u001b[38;5;28;01mdef\u001b[39;00m\u001b[38;5;250m \u001b[39m\u001b[38;5;21mread_file_lines\u001b[39m(file_path):\n\u001b[1;32m---> 14\u001b[0m     \u001b[38;5;28;01mwith\u001b[39;00m \u001b[38;5;28;43mopen\u001b[39;49m\u001b[43m(\u001b[49m\u001b[43mfile_path\u001b[49m\u001b[43m,\u001b[49m\u001b[43m \u001b[49m\u001b[38;5;124;43m'\u001b[39;49m\u001b[38;5;124;43mr\u001b[39;49m\u001b[38;5;124;43m'\u001b[39;49m\u001b[43m)\u001b[49m \u001b[38;5;28;01mas\u001b[39;00m file:\n\u001b[0;32m     15\u001b[0m         \u001b[38;5;28;01mfor\u001b[39;00m line \u001b[38;5;129;01min\u001b[39;00m file:\n\u001b[0;32m     16\u001b[0m             \u001b[38;5;28;01myield\u001b[39;00m line\n",
      "File \u001b[1;32mC:\\PythonCode\\ramis\\lib\\site-packages\\IPython\\core\\interactiveshell.py:324\u001b[0m, in \u001b[0;36m_modified_open\u001b[1;34m(file, *args, **kwargs)\u001b[0m\n\u001b[0;32m    317\u001b[0m \u001b[38;5;28;01mif\u001b[39;00m file \u001b[38;5;129;01min\u001b[39;00m {\u001b[38;5;241m0\u001b[39m, \u001b[38;5;241m1\u001b[39m, \u001b[38;5;241m2\u001b[39m}:\n\u001b[0;32m    318\u001b[0m     \u001b[38;5;28;01mraise\u001b[39;00m \u001b[38;5;167;01mValueError\u001b[39;00m(\n\u001b[0;32m    319\u001b[0m         \u001b[38;5;124mf\u001b[39m\u001b[38;5;124m\"\u001b[39m\u001b[38;5;124mIPython won\u001b[39m\u001b[38;5;124m'\u001b[39m\u001b[38;5;124mt let you open fd=\u001b[39m\u001b[38;5;132;01m{\u001b[39;00mfile\u001b[38;5;132;01m}\u001b[39;00m\u001b[38;5;124m by default \u001b[39m\u001b[38;5;124m\"\u001b[39m\n\u001b[0;32m    320\u001b[0m         \u001b[38;5;124m\"\u001b[39m\u001b[38;5;124mas it is likely to crash IPython. If you know what you are doing, \u001b[39m\u001b[38;5;124m\"\u001b[39m\n\u001b[0;32m    321\u001b[0m         \u001b[38;5;124m\"\u001b[39m\u001b[38;5;124myou can use builtins\u001b[39m\u001b[38;5;124m'\u001b[39m\u001b[38;5;124m open.\u001b[39m\u001b[38;5;124m\"\u001b[39m\n\u001b[0;32m    322\u001b[0m     )\n\u001b[1;32m--> 324\u001b[0m \u001b[38;5;28;01mreturn\u001b[39;00m io_open(file, \u001b[38;5;241m*\u001b[39margs, \u001b[38;5;241m*\u001b[39m\u001b[38;5;241m*\u001b[39mkwargs)\n",
      "\u001b[1;31mFileNotFoundError\u001b[0m: [Errno 2] No such file or directory: 'large_file.txt'"
     ]
    }
   ],
   "source": [
    "# Generator with a loop\n",
    "def num_seq(n):\n",
    "    for i in range(n):\n",
    "        yield i\n",
    "\n",
    "gen = num_seq(5)\n",
    "\n",
    "# Generator Expression\n",
    "gen = (x*2 for x in range(5))\n",
    "\n",
    "# Reading large file line by line \n",
    "\n",
    "def read_file_lines(file_path):\n",
    "    with open(file_path, 'r') as file:\n",
    "        for line in file:\n",
    "            yield line\n",
    "\n",
    "for line in read_file_lines(\"large_file.txt\"):\n",
    "    print(line)\n",
    "\n",
    "\n",
    "# Generating fibonacci for infinite sequences\n",
    "def fibo_infi():\n",
    "    a,b = 0,1\n",
    "    while True:\n",
    "        yield a\n",
    "        a,b = b,a+b\n",
    "\n",
    "fib = fibo_infi()\n",
    "for _ in range(5):\n",
    "    print(next(fib))\n",
    "\n",
    "# Pipeline Processing\n",
    "\n",
    "def sq_num(numbers):\n",
    "    for num in numbers:\n",
    "        yield num*num\n",
    "\n",
    "def even_num(numbers):\n",
    "    for num in numbers:\n",
    "        if num%2==0:\n",
    "            yield num\n",
    "\n",
    "nums = range(10)\n",
    "pipeline = even_num(sq_num(nums))\n",
    "print(list(pipeline))\n",
    "\n",
    "# here list(pipeline) is repeatedly calling __next__() on the generator to collect all yielded values into a list\n",
    "#This is equivalent to manually calling next(pipeline) multiple times until StopIteration is raised, but list() automates this process.\n",
    "\n",
    "#This is how list function works implicitly in this case\n",
    "\"\"\"\n",
    "result = []\n",
    "while True:\n",
    "    try:\n",
    "        result.append(next(pipeline))\n",
    "    except StopIteration:\n",
    "        break\n",
    "print(result)  # [0, 4, 16, 36, 64]\n",
    "\n",
    "\"\"\"\n",
    "\n",
    "\n"
   ]
  },
  {
   "cell_type": "markdown",
   "id": "69f11acc-e0cb-40e1-a7a4-a1f8a7a6b28a",
   "metadata": {},
   "source": [
    "Uses of generators:\n",
    "1) Memory Efficieny\n",
    "2) Lazy Evaluation\n",
    "3) Infinite Sequences (Explained above)\n",
    "4) Pipeline processing (Explained above)\n",
    "\n",
    "1) Memory Efficient - Gen don't store entire sequence in memory. You can use it to even generate million numbers.\n",
    "2) Lazy Evaluation - Values are computed only when needed - good for large dataset processing or streams."
   ]
  },
  {
   "cell_type": "code",
   "execution_count": null,
   "id": "152eba4d-a3b6-4a38-a3a3-34d17aa1fb62",
   "metadata": {},
   "outputs": [],
   "source": [
    "append() \n",
    "extend()\n",
    "zip() - zip([1,2], ['a','b']) yields (1,'a'), (2,'b')\n",
    "break, continue, pass\n",
    "Decorators\n",
    "lambda function\n",
    "*args **kwargs\n",
    "Shallow copy and deep copy[copy.copy() list.copy()| copy.deepcopy()]\n",
    "map() - applying function to each element in iterable\n",
    "reduce()\n",
    "list.sort() modifies list in place | sorted() returns a new sorted list\n",
    "enumerate()\n",
    "provides index and value pairs from an iterable"
   ]
  },
  {
   "cell_type": "markdown",
   "id": "59897fb8-acfd-4b99-8e4b-b96df8b4e58c",
   "metadata": {},
   "source": [
    "Subtopic #2 - Append and Extend"
   ]
  },
  {
   "cell_type": "code",
   "execution_count": 21,
   "id": "170acf42-ce68-4a60-8e5f-c42d34a0620d",
   "metadata": {},
   "outputs": [
    {
     "name": "stdout",
     "output_type": "stream",
     "text": [
      "[1, [1, 2], 1, 2, 3, 2, 3, 3, 4, 5, 'N', 'Age']\n"
     ]
    }
   ],
   "source": [
    "# append is for adding elements to the list directly\n",
    "# extend is used to add series of elements to an existing list. So all the elements in the extend will act as standalone element\n",
    "\n",
    "\n",
    "num = []\n",
    "\n",
    "num.append(1)          # [1]\n",
    "num.append([1,2])      # [1,[1,2]]\n",
    "num.extend([1,2,3])    # [1,[1,2],1,2,3]\n",
    "num.extend((2,3))      # Even tuple can be passed\n",
    "num.extend({3,4,5})    # Sets also work\n",
    "\n",
    "num.extend({\"N\":\"Ramis\",\"Age\":24})       # Dict keys will be added in general\n",
    "print(num)"
   ]
  },
  {
   "cell_type": "markdown",
   "id": "1b7ee0ef-9f12-48ec-8cb6-06b55facf33a",
   "metadata": {},
   "source": [
    "Subtopic #3 - break, continue, pass"
   ]
  },
  {
   "cell_type": "code",
   "execution_count": 22,
   "id": "33173838-27a2-42d7-bf72-51f9ba6a6676",
   "metadata": {},
   "outputs": [
    {
     "data": {
      "text/plain": [
       "\" use pass, if you don't want to do anything and will still be considered as a valid block \""
      ]
     },
     "execution_count": 22,
     "metadata": {},
     "output_type": "execute_result"
    }
   ],
   "source": [
    "# break\n",
    "\"\"\" This will force break out from the loop(inner loop - if nested loops are used) \"\"\"\n",
    "\n",
    "# continue\n",
    "\"\"\" Will move the loop to the next value on the iterator directly without executing the next expressions \"\"\"\n",
    "\n",
    "# pass\n",
    "\"\"\" use pass, if you don't want to do anything and will still be considered as a valid block \"\"\""
   ]
  },
  {
   "cell_type": "markdown",
   "id": "0540ccb8-f891-4823-8d0b-89e30cf0d6a7",
   "metadata": {},
   "source": [
    "Sub Topic #4 - Special Functions - zip() map() reduce()"
   ]
  },
  {
   "cell_type": "code",
   "execution_count": 27,
   "id": "8174c672-7547-43ff-a2dc-2e2b88785b81",
   "metadata": {},
   "outputs": [
    {
     "name": "stdout",
     "output_type": "stream",
     "text": [
      "[(1, 'a'), (2, 'b')]\n"
     ]
    }
   ],
   "source": [
    "#zip() - zip([1,2], ['a','b']) -> (1,'a'), (2,'b')\n",
    "\"\"\"\n",
    "It works on list, tuple, dict(keys in general), sets, strings, gens, range objs, combination of iterables\n",
    "# Always returns TUPLES\n",
    "\"\"\"\n",
    "\n",
    "first = [1,2,3]\n",
    "sec = ['a','b']\n",
    "print(list(zip(first,sec)))\n",
    "# zip function will stop when shortest iterable is exhaused\n"
   ]
  },
  {
   "cell_type": "code",
   "execution_count": 30,
   "id": "f1e4e667-142c-4320-8723-bee35cdddb02",
   "metadata": {},
   "outputs": [
    {
     "name": "stdout",
     "output_type": "stream",
     "text": [
      "[1, 4, 9, 16]\n"
     ]
    }
   ],
   "source": [
    "#map() - applying function to each element in iterable\n",
    "\"\"\" Result = map(functionName, Iterable) \"\"\"\n",
    "# Result will give you the output after applying the function to each element in the iterable\n",
    "\n",
    "def square(num):\n",
    "    return num*num\n",
    "\n",
    "nums = [1,2,3,4]\n",
    "print(list(map(square,nums)))\n",
    "\n",
    "# Can also pass multiple iterables\n",
    "# result = map(lambda x, y: x + y, list1, list2)\n",
    "# If iterables have different lenghts, map() will stop just like zip()\n"
   ]
  },
  {
   "cell_type": "code",
   "execution_count": 31,
   "id": "297db86a-a122-485c-aa48-cbd3f80ca843",
   "metadata": {},
   "outputs": [
    {
     "name": "stdout",
     "output_type": "stream",
     "text": [
      "24\n"
     ]
    }
   ],
   "source": [
    "#reduce(function, iterable) -> Takes two argument and then passes the result of that and next element to the function and will keep going like that\n",
    "# to reach a single output\n",
    "# Returns Single value\n",
    "\n",
    "from functools import reduce\n",
    "\n",
    "def multiply(a,b):\n",
    "    return a*b\n",
    "\n",
    "nums = [1,2,3,4]\n",
    "\n",
    "print(reduce(multiply, nums))\n",
    "\n",
    "\n"
   ]
  },
  {
   "cell_type": "markdown",
   "id": "4df2e942-1fa7-4f1e-a451-168db94052ad",
   "metadata": {},
   "source": [
    "Sub Topic #5 - list.sort() and sorted(list)"
   ]
  },
  {
   "cell_type": "code",
   "execution_count": 32,
   "id": "96242740-d1fe-4b8a-a1c1-1361b436637a",
   "metadata": {},
   "outputs": [],
   "source": [
    "#list.sort() will sort in place\n",
    "\n",
    "# sorted(list() creates a new list\n",
    "nums = [3,6,3,1,4,7]\n",
    "\n",
    "nums.sort()     # only works on list\n",
    "num1 = sorted(nums)    # works on any iterable\n",
    "\n",
    "# nums.sort(key = len, reverse=True)\n",
    "# sorted(nums, key = len, reverse=True)\n",
    "\n",
    "#key keyword customize the sorting by length\n",
    "#reverse = True will sort in descending order\n",
    "\n"
   ]
  },
  {
   "cell_type": "markdown",
   "id": "92b085e7-d931-4df2-a646-635550f74ede",
   "metadata": {},
   "source": [
    "Sub Topic #6: Enumerate"
   ]
  },
  {
   "cell_type": "code",
   "execution_count": 34,
   "id": "22399a2b-bf7c-4a60-a90e-efdc54984e71",
   "metadata": {},
   "outputs": [
    {
     "name": "stdout",
     "output_type": "stream",
     "text": [
      "0 apple\n",
      "1 orange\n",
      "2 cherry\n"
     ]
    }
   ],
   "source": [
    "# enumerate(iterable, start) -> returns iterator of tupes (index,item)\n",
    "# memory efficient\n",
    "\n",
    "fruits = [\"apple\",\"orange\",\"cherry\"]\n",
    "for index,item in enumerate(fruits):\n",
    "    print(index,item)\n",
    "\n",
    "# It associates an index along with the elements of given iterable\n",
    "# start defines the starting index; default is 0"
   ]
  },
  {
   "cell_type": "markdown",
   "id": "4d55405a-2b8b-49d0-9faf-1e29dda96afb",
   "metadata": {},
   "source": [
    "Topic #3 - File Handling"
   ]
  },
  {
   "cell_type": "code",
   "execution_count": null,
   "id": "2755e56d-e574-4dd6-bd2f-8fd0e4473433",
   "metadata": {},
   "outputs": [],
   "source": [
    "with open('filename.txt', 'w') as file:\n",
    "    file.write(\"First Line\")\n",
    "    file.wrtie(\"Second Line\")\n",
    "\n",
    "with open('Filename.txt','r') as file:\n",
    "    content = file.read()\n",
    "\n",
    "# With statement ensures the file is closed even if an error occurs preventing resource leaks\n",
    "\n",
    "# File Opening Modes\n",
    "\"\"\"\n",
    "r - read\n",
    "w - write\n",
    "a - append\n",
    "\n",
    "r+  read and write mode\n",
    "w+  write and read mode\n",
    "a+  append and read mode\n",
    "\n",
    "rb  read binary\n",
    "wb  write binary\n",
    "\n",
    "\"\"\"\n",
    "\n",
    "with open('input.jpg','rb') as source_file:\n",
    "    with open('output.jpb','wb') as dest_file:\n",
    "        dest_file.write(source_file.read())\n",
    "\n",
    "\n"
   ]
  },
  {
   "cell_type": "markdown",
   "id": "8848b067-bf17-4dd1-a694-4a5496c3934d",
   "metadata": {},
   "source": [
    " Topic #4 - Exception handling"
   ]
  },
  {
   "cell_type": "code",
   "execution_count": 35,
   "id": "4601067f-7d31-4158-9134-017d56b4ba4e",
   "metadata": {},
   "outputs": [
    {
     "name": "stdout",
     "output_type": "stream",
     "text": [
      "File Not Found\n",
      "Execution complete\n"
     ]
    }
   ],
   "source": [
    "try:\n",
    "    with open('example.txt','r') as file:\n",
    "        content = file.read()\n",
    "        number = int(content)\n",
    "        print(number)\n",
    "except FileNotFoundError:\n",
    "    print(\"File Not Found\")\n",
    "except ValueError:\n",
    "    print(\"File could not be converted to an integer\")\n",
    "except Exception as e:\n",
    "    print(e)\n",
    "except (FileNotFoundError, ValueError, PermissionError) as e:\n",
    "    print(e)\n",
    "finally:\n",
    "    print(\"Execution complete\")"
   ]
  },
  {
   "cell_type": "code",
   "execution_count": 36,
   "id": "bce3c28b-a032-402a-8cd7-16f28b35540a",
   "metadata": {},
   "outputs": [
    {
     "data": {
      "text/plain": [
       "'\\nFileNotFoundError\\n\\nPermissionError\\nIOError\\n\\nValueError\\nTypeError\\nIndexError\\nZeroDivisionError\\n\\nKeyError\\n'"
      ]
     },
     "execution_count": 36,
     "metadata": {},
     "output_type": "execute_result"
    }
   ],
   "source": [
    "# Built in exception = Used after except keyword in handling the exception\n",
    "\"\"\"\n",
    "FileNotFoundError\n",
    "\n",
    "PermissionError\n",
    "IOError\n",
    "\n",
    "ValueError\n",
    "TypeError\n",
    "IndexError\n",
    "ZeroDivisionError\n",
    "\n",
    "KeyError\n",
    "\"\"\""
   ]
  },
  {
   "cell_type": "code",
   "execution_count": 39,
   "id": "c895df98-a0ff-4986-bad1-414cc2c8617e",
   "metadata": {},
   "outputs": [
    {
     "name": "stdout",
     "output_type": "stream",
     "text": [
      "25\n"
     ]
    }
   ],
   "source": [
    "# Lambda Structure\n",
    "# output = lambda input_vars: computation\n",
    "\n",
    "square = lambda x: x*x\n",
    "print(square(5))"
   ]
  },
  {
   "cell_type": "code",
   "execution_count": 41,
   "id": "0e9c602c-fc84-4216-9cda-05e05fbd3cea",
   "metadata": {},
   "outputs": [],
   "source": [
    "import copy\n",
    "copy.copy(a)    # Shallow copy of list a\n",
    "copy.deepcopy(a)  # Deep copy of list a\n",
    "\n",
    "# Shallow Copy\n",
    "\"\"\"\n",
    "Creates new outer object, but does not recursively copy nested objects\n",
    "\"\"\"\n",
    "\n",
    "# Deep Copy\n",
    "\"\"\"\n",
    "Recursively copies all elements including nested objects\n",
    "\"\"\"\n",
    "\n"
   ]
  },
  {
   "cell_type": "code",
   "execution_count": null,
   "id": "6642edac-8fd0-4906-8df7-ab1404795e44",
   "metadata": {},
   "outputs": [],
   "source": []
  }
 ],
 "metadata": {
  "kernelspec": {
   "display_name": "Python 3 (ipykernel)",
   "language": "python",
   "name": "python3"
  },
  "language_info": {
   "codemirror_mode": {
    "name": "ipython",
    "version": 3
   },
   "file_extension": ".py",
   "mimetype": "text/x-python",
   "name": "python",
   "nbconvert_exporter": "python",
   "pygments_lexer": "ipython3",
   "version": "3.10.0"
  }
 },
 "nbformat": 4,
 "nbformat_minor": 5
}
